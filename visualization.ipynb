{
 "cells": [
  {
   "cell_type": "code",
   "execution_count": 1,
   "metadata": {},
   "outputs": [
    {
     "name": "stdout",
     "output_type": "stream",
     "text": [
      "Please select the articles file.\n",
      "Please select the authors file.\n",
      "File selection was canceled.\n"
     ]
    }
   ],
   "source": [
    "import pandas as pd\n",
    "import matplotlib.pyplot as plt\n",
    "import os\n",
    "from tkinter import Tk\n",
    "from tkinter.filedialog import askopenfilename\n",
    "\n",
    "def read_data(file_path):\n",
    "    \"\"\"Reads data from an Excel file.\"\"\"\n",
    "    try:\n",
    "        data = pd.read_excel(file_path)\n",
    "        return data\n",
    "    except Exception as e:\n",
    "        print(f\"Error reading file {file_path}: {e}\")\n",
    "        return None\n",
    "\n",
    "def save_figure(fig_id, folder='images', extension='png', resolution=300):\n",
    "    \"\"\"Saves the figure to a file.\"\"\"\n",
    "    if not os.path.exists(folder):\n",
    "        os.makedirs(folder)\n",
    "    file_path = os.path.join(folder, f\"{fig_id}.{extension}\")\n",
    "    plt.savefig(file_path, format=extension, dpi=resolution)\n",
    "\n",
    "# Prompt user to select files\n",
    "Tk().withdraw()  # Hide the root Tkinter window\n",
    "print(\"Please select the articles file.\")\n",
    "articles_file = askopenfilename(title=\"Select Articles File\", filetypes=[(\"Excel Files\", \"*.xlsx\")])\n",
    "print(\"Please select the authors file.\")\n",
    "authors_file = askopenfilename(title=\"Select Authors File\", filetypes=[(\"Excel Files\", \"*.xlsx\")])\n",
    "\n",
    "if articles_file and authors_file:\n",
    "    articles = read_data(articles_file)\n",
    "    authors = read_data(authors_file)\n",
    "\n",
    "    if articles is not None and authors is not None:\n",
    "        # Count total authors\n",
    "        total_authors = authors['Author Name'].nunique()\n",
    "        print(f\"Total unique authors: {total_authors}\")\n",
    "\n",
    "        # Count publications by year\n",
    "        if 'Year Published' in articles.columns:\n",
    "            pub_by_year = articles.groupby('Year Published').size()\n",
    "\n",
    "            # Plot the number of publications per year\n",
    "            plt.figure(figsize=(10, 6))\n",
    "            pub_by_year.plot(kind='bar', color='skyblue', edgecolor='black')\n",
    "            plt.title('Number of Publications per Year', fontsize=14)\n",
    "            plt.xlabel('Year', fontsize=12)\n",
    "            plt.ylabel('Number of Publications', fontsize=12)\n",
    "            plt.xticks(rotation=45, fontsize=10)\n",
    "            plt.grid(axis='y', linestyle='--', alpha=0.7)\n",
    "\n",
    "            # Save and show the plot\n",
    "            save_figure(\"publications_per_year\")\n",
    "            plt.show()\n",
    "        else:\n",
    "            print(\"The 'Year Published' column is missing in the articles file.\")\n",
    "    else:\n",
    "        print(\"Failed to read one or both files. Please check the file paths and formats.\")\n",
    "else:\n",
    "    print(\"File selection was canceled.\")\n"
   ]
  }
 ],
 "metadata": {
  "kernelspec": {
   "display_name": "Python 3",
   "language": "python",
   "name": "python3"
  },
  "language_info": {
   "codemirror_mode": {
    "name": "ipython",
    "version": 3
   },
   "file_extension": ".py",
   "mimetype": "text/x-python",
   "name": "python",
   "nbconvert_exporter": "python",
   "pygments_lexer": "ipython3",
   "version": "3.11.8"
  }
 },
 "nbformat": 4,
 "nbformat_minor": 2
}
